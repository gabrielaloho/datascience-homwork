{
  "nbformat": 4,
  "nbformat_minor": 0,
  "metadata": {
    "colab": {
      "provenance": [],
      "collapsed_sections": [],
      "authorship_tag": "ABX9TyPDWnFEi29vmw1Wk70ULYvf",
      "include_colab_link": true
    },
    "kernelspec": {
      "name": "python3",
      "display_name": "Python 3"
    },
    "language_info": {
      "name": "python"
    },
    "gpuClass": "standard"
  },
  "cells": [
    {
      "cell_type": "markdown",
      "metadata": {
        "id": "view-in-github",
        "colab_type": "text"
      },
      "source": [
        "<a href=\"https://colab.research.google.com/github/gabrielaloho/datascience-homwork/blob/main/Introduction_to_Data_science_first_lesson.ipynb\" target=\"_parent\"><img src=\"https://colab.research.google.com/assets/colab-badge.svg\" alt=\"Open In Colab\"/></a>"
      ]
    },
    {
      "cell_type": "markdown",
      "source": [],
      "metadata": {
        "id": "wjly03EBQuQy"
      }
    },
    {
      "cell_type": "markdown",
      "source": [
        "3. Write a program that reads a positive integer, n, from the user and then displays the sum of all of the integers from 1 to n. The sum of the first n positive integers can be\n",
        "\n"
      ],
      "metadata": {
        "id": "631QhAq0_JE5"
      }
    },
    {
      "cell_type": "code",
      "source": [
        "# Read the value of n from the user\n",
        "n = int(input(\"Enter a positive integer: \"))\n",
        "# Compute the sum\n",
        "sm = n * (n + 1) / 2\n",
        "# Display the result\n",
        "print(\"The sum of the first\", n, \"positive integers is\", sm)"
      ],
      "metadata": {
        "id": "GGakwtCyRMbu",
        "colab": {
          "base_uri": "https://localhost:8080/"
        },
        "outputId": "bed599a5-759d-42c3-b270-abd98159ac46"
      },
      "execution_count": null,
      "outputs": [
        {
          "output_type": "stream",
          "name": "stdout",
          "text": [
            "Enter a positive integer: 8\n",
            "The sum of the first 8 positive integers is 36.0\n"
          ]
        }
      ]
    },
    {
      "cell_type": "markdown",
      "source": [
        "12. Create a program that reads three integers from the user and displays them in sorted order (from smallest to largest). Use the min and max functions to find the smallest and largest values. The middle value can be found by computing the sum of all three values, and then subtracting the minimum value and the maximum value."
      ],
      "metadata": {
        "id": "zPbgYNjw-UWr"
      }
    },
    {
      "cell_type": "code",
      "source": [
        "# Read the numbers from the user, naming them a, b and c\n",
        "a = int(input(\"Enter the first number: \"))\n",
        "b = int(input(\"Enter the second number: \"))\n",
        "c = int(input(\"Enter the third number: \"))\n",
        "mn = min(a, b, c) # the minimum value\n",
        "mx = max(a, b, c) # the maximum value\n",
        "md = a + b + c - mn - mx # the middle value\n",
        "# Display the result\n",
        "print(\"The numbers in sorted order are:\")\n",
        "print(\" \", mn)\n",
        "print(\" \", md)\n",
        "print(\" \", mx)"
      ],
      "metadata": {
        "colab": {
          "base_uri": "https://localhost:8080/"
        },
        "id": "Jw-rJHQ4-XFi",
        "outputId": "28325404-8211-4a18-bf8d-d801ea81d808"
      },
      "execution_count": null,
      "outputs": [
        {
          "output_type": "stream",
          "name": "stdout",
          "text": [
            "Enter the first number: 79\n",
            "Enter the second number: 6\n",
            "Enter the third number: 26\n",
            "The numbers in sorted order are:\n",
            "  6\n",
            "  26\n",
            "  79\n"
          ]
        }
      ]
    },
    {
      "cell_type": "markdown",
      "source": [
        "Quention 13. A bakery sells loaves of bread for $3.49 each. Day old bread is discounted by 60 percent. Write a program that begins by reading the number of loaves of day old bread being purchased from the user. Then your program should display the regular price for the bread, the discount because it is a day old, and the total price. Each of these amounts should be displayed on its own line with an appropriate label. All of the values should be displayed using two decimal places, and the decimal points in all of the numbers should be aligned when reasonable values are entered by the user."
      ],
      "metadata": {
        "id": "f0GRQnCRTDW9"
      }
    },
    {
      "cell_type": "markdown",
      "source": [],
      "metadata": {
        "id": "ojkn-Keq-PI5"
      }
    },
    {
      "cell_type": "code",
      "source": [
        "# Compute the price of a day old bread order.\n",
        "BREAD_PRICE = 3.49\n",
        "DISCOUNT_RATE = 0.60\n",
        "# Read the number of loaves from the user\n",
        "num_loaves = int(input(\"Enter the number of day old loaves: \"))\n",
        "# Compute the discount and total price\n",
        "regular_price = num_loaves * BREAD_PRICE\n",
        "discount = regular_price * DISCOUNT_RATE\n",
        "total = regular_price - discount\n",
        "# Display the result\n",
        "print(\"Regular price: %5.2f\" % regular_price)\n",
        "print(\"Discount: %5.2f\" % discount)\n",
        "print(\"Total: %5.2f\" % total)"
      ],
      "metadata": {
        "id": "DNwpPzt_TMQk",
        "colab": {
          "base_uri": "https://localhost:8080/"
        },
        "outputId": "16778652-139d-4374-b4ae-1f52852583e3"
      },
      "execution_count": null,
      "outputs": [
        {
          "output_type": "stream",
          "name": "stdout",
          "text": [
            "Enter the number of day old loaves: 56\n",
            "Regular price: 195.44\n",
            "Discount: 117.26\n",
            "Total: 78.18\n"
          ]
        }
      ]
    }
  ]
}